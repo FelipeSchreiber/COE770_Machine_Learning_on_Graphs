{
  "cells": [
    {
      "cell_type": "code",
      "source": [
        "from google.colab import drive\n",
        "from google.colab import runtime\n",
        "import pickle\n",
        "import matplotlib.pyplot as plt\n",
        "import numpy as np\n",
        "drive.mount('/content/drive')"
      ],
      "metadata": {
        "id": "1SOI5SMQ0qd3"
      },
      "execution_count": null,
      "outputs": []
    },
    {
      "cell_type": "code",
      "source": [
        "SIZE_TITLE = 24\n",
        "SIZE_LABELS = 24\n",
        "SIZE_TICKS = 18\n",
        "SIZE_LEGEND = 18"
      ],
      "metadata": {
        "id": "MfapSpj_r1YZ"
      },
      "execution_count": null,
      "outputs": []
    },
    {
      "cell_type": "code",
      "execution_count": null,
      "metadata": {
        "id": "ZDCV17uKV0dJ"
      },
      "outputs": [],
      "source": [
        "!pip install gdown\n",
        "!pip install -U pysal\n",
        "!pip install geopandas\n",
        "!pip install torch_geometric pyg_lib torch_scatter torch_sparse torch_cluster torch_spline_conv -f https://data.pyg.org/whl/torch-2.0.0+cpu.html\n",
        "!pip install torch-geometric-temporal\n",
        "!pip install --upgrade --force-reinstall git+https://github.com/FelipeSchreiber/COE770_Machine_Learning_on_Graphs.git"
      ]
    },
    {
      "cell_type": "code",
      "source": [
        "from Tests.benchmark import *\n",
        "gammas=np.logspace(1,6,num=3).astype(int)\n",
        "filters = [2,4,8]"
      ],
      "metadata": {
        "id": "mNs-nZ5U8OPf"
      },
      "execution_count": null,
      "outputs": []
    },
    {
      "cell_type": "code",
      "source": [
        "benchmark = CovidBenchmark()\n",
        "stats = benchmark.run_test(lags=4,filter_sizes=filters,\\\n",
        "                           train_model=True,\\\n",
        "                           gammas=gammas,\\\n",
        "                           num_epochs=100,\\\n",
        "                           warm_start=False)"
      ],
      "metadata": {
        "id": "eGg6HKeWWGsy"
      },
      "execution_count": null,
      "outputs": []
    },
    {
      "cell_type": "code",
      "source": [
        "stats"
      ],
      "metadata": {
        "id": "tTstXP4qPau6"
      },
      "execution_count": null,
      "outputs": []
    },
    {
      "cell_type": "code",
      "source": [
        "with open('covid_test_0.pickle', 'wb') as handle:\n",
        "    pickle.dump(stats, handle, protocol=pickle.HIGHEST_PROTOCOL)\n",
        "!cp \"/content/covid_test_0.pickle\" \"/content/drive/MyDrive\""
      ],
      "metadata": {
        "id": "eTYIe9o-WWoC"
      },
      "execution_count": null,
      "outputs": []
    },
    {
      "cell_type": "code",
      "source": [
        "test_0=None\n",
        "with open(\"/content/drive/MyDrive/covid_test_0.pickle\", 'rb') as handle:\n",
        "    test_0 = pickle.load(handle)\n",
        "test_0.keys()"
      ],
      "metadata": {
        "id": "BCLC3GGcRKEn"
      },
      "execution_count": null,
      "outputs": []
    },
    {
      "cell_type": "code",
      "source": [
        "def scatter_(dict_,x_name,y_name,z_name):\n",
        "  fig, ax = plt.subplots()\n",
        "  x,y = dict_[x_name],np.log10(dict_[y_name])\n",
        "  ax.scatter(x,y)\n",
        "  for i, txt in enumerate(dict_[z_name]):\n",
        "      ax.annotate(\"{:.2f}\".format(txt), (x[i], y[i]))\n",
        "  ax.set_xlabel(x_name)\n",
        "  ax.set_ylabel(y_name)\n",
        "scatter_(test_0,'filter_size','gamma', 'MSE')"
      ],
      "metadata": {
        "id": "4Ohei8CHqrEQ"
      },
      "execution_count": null,
      "outputs": []
    },
    {
      "cell_type": "code",
      "source": [
        "fig = plt.figure(figsize=(5, 4))\n",
        "ax = fig.add_subplot(111)\n",
        "x,y,z = test_0['filter_size'] ,np.log10(test_0['gamma']),test_0[\"MSE\"]\n",
        "xlabel=\"filter_size\"\n",
        "ylabel='gamma'\n",
        "ticks = np.linspace(np.min(z), np.max(z), 5, endpoint=True)\n",
        "C = ax.scatter(x=x,y=y,c=z,cmap=\"coolwarm\")\n",
        "cb = fig.colorbar(C, ax=ax, fraction=0.02, pad=0.1, label='MSE',ticks=ticks)\n",
        "cb.set_label(label='MSE', size=SIZE_LEGEND)\n",
        "cb.ax.tick_params(labelsize=SIZE_TICKS)\n",
        "plt.xlabel( xlabel, fontsize = SIZE_LABELS )\n",
        "plt.ylabel( ylabel, fontsize = SIZE_LABELS )\n",
        "plt.xticks( fontsize = SIZE_TICKS )\n",
        "plt.yticks( fontsize = SIZE_TICKS )\n",
        "plt.show()"
      ],
      "metadata": {
        "id": "2yAE6hPvq-HQ"
      },
      "execution_count": null,
      "outputs": []
    },
    {
      "cell_type": "code",
      "source": [
        "loader = CovidDatasetLoader(method=\"other\")\n",
        "dataset = loader.get_dataset(lags=4)\n",
        "# train_dataset, test_dataset = temporal_signal_split(dataset, train_ratio=0.8)\n",
        "i = 0\n",
        "fig = plt.figure(1, figsize=(8, 14), frameon=False, dpi=100)\n",
        "for filter_size, gamma in tqdm(product(filters,gammas)):\n",
        "  model = get_model(False,num_features=35,num_filters=filter_size,gamma=gamma)\n",
        "  model.to(device)\n",
        "  model.eval()\n",
        "  cost = 0\n",
        "  preds = []\n",
        "  y = []\n",
        "  for time, snapshot in enumerate(dataset):\n",
        "      snapshot.to(device)\n",
        "      y_hat,_ = model(snapshot.x, snapshot.edge_index, snapshot.edge_attr)\n",
        "      preds.append(y_hat.sum().cpu().detach().numpy())\n",
        "      y.append(snapshot.y.sum().cpu().detach().numpy())\n",
        "      del snapshot\n",
        "  if i ==0:\n",
        "    plt.plot(y,label=f\"Y\")\n",
        "  plt.plot(preds,label=f\"ADCRNN_{int(filter_size)}_{np.log10(gamma):.2f}\")\n",
        "  i+=1\n",
        "plt.legend()\n",
        "plt.ylabel(\"Total de casos agregados\")\n",
        "plt.xticks(rotation=45)\n",
        "plt.savefig(\"agg.jpg\")\n",
        "plt.show()\n",
        "!cp \"/content/agg.jpg\" \"/content/drive/MyDrive\""
      ],
      "metadata": {
        "id": "STMuzMFhcrnW"
      },
      "execution_count": null,
      "outputs": []
    },
    {
      "cell_type": "code",
      "source": [
        "runtime.unassign()"
      ],
      "metadata": {
        "id": "XYRPUtvzfKkK"
      },
      "execution_count": null,
      "outputs": []
    }
  ],
  "metadata": {
    "language_info": {
      "name": "python"
    },
    "orig_nbformat": 4,
    "colab": {
      "provenance": [],
      "gpuType": "T4",
      "machine_shape": "hm"
    },
    "kernelspec": {
      "name": "python3",
      "display_name": "Python 3"
    },
    "accelerator": "GPU"
  },
  "nbformat": 4,
  "nbformat_minor": 0
}