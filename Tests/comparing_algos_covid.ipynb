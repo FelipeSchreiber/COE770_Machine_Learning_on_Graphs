{
  "nbformat": 4,
  "nbformat_minor": 0,
  "metadata": {
    "colab": {
      "provenance": [],
      "machine_shape": "hm",
      "gpuType": "T4"
    },
    "kernelspec": {
      "name": "python3",
      "display_name": "Python 3"
    },
    "language_info": {
      "name": "python"
    },
    "accelerator": "GPU"
  },
  "cells": [
    {
      "cell_type": "code",
      "source": [
        "!pip install gdown\n",
        "!pip install -U pysal\n",
        "!pip install geopandas\n",
        "!pip install torch_geometric pyg_lib torch_scatter torch_sparse torch_cluster torch_spline_conv -f https://data.pyg.org/whl/torch-2.0.0+cpu.html\n",
        "!pip install torch-geometric-temporal\n",
        "!pip install --upgrade --force-reinstall git+https://github.com/FelipeSchreiber/COE770_Machine_Learning_on_Graphs.git"
      ],
      "metadata": {
        "colab": {
          "base_uri": "https://localhost:8080/"
        },
        "id": "q9M51h2xpKsO",
        "outputId": "5571f352-fb0f-4b4d-9fec-96620b940002"
      },
      "execution_count": 1,
      "outputs": [
        {
          "output_type": "stream",
          "name": "stdout",
          "text": [
            "Looking in indexes: https://pypi.org/simple, https://us-python.pkg.dev/colab-wheels/public/simple/\n",
            "Requirement already satisfied: gdown in /usr/local/lib/python3.10/dist-packages (4.6.6)\n",
            "Requirement already satisfied: filelock in /usr/local/lib/python3.10/dist-packages (from gdown) (3.12.0)\n",
            "Requirement already satisfied: requests[socks] in /usr/local/lib/python3.10/dist-packages (from gdown) (2.27.1)\n",
            "Requirement already satisfied: six in /usr/local/lib/python3.10/dist-packages (from gdown) (1.16.0)\n",
            "Requirement already satisfied: tqdm in /usr/local/lib/python3.10/dist-packages (from gdown) (4.65.0)\n",
            "Requirement already satisfied: beautifulsoup4 in /usr/local/lib/python3.10/dist-packages (from gdown) (4.11.2)\n",
            "Requirement already satisfied: soupsieve>1.2 in /usr/local/lib/python3.10/dist-packages (from beautifulsoup4->gdown) (2.4.1)\n",
            "Requirement already satisfied: urllib3<1.27,>=1.21.1 in /usr/local/lib/python3.10/dist-packages (from requests[socks]->gdown) (1.26.15)\n",
            "Requirement already satisfied: certifi>=2017.4.17 in /usr/local/lib/python3.10/dist-packages (from requests[socks]->gdown) (2022.12.7)\n",
            "Requirement already satisfied: charset-normalizer~=2.0.0 in /usr/local/lib/python3.10/dist-packages (from requests[socks]->gdown) (2.0.12)\n",
            "Requirement already satisfied: idna<4,>=2.5 in /usr/local/lib/python3.10/dist-packages (from requests[socks]->gdown) (3.4)\n",
            "Requirement already satisfied: PySocks!=1.5.7,>=1.5.6 in /usr/local/lib/python3.10/dist-packages (from requests[socks]->gdown) (1.7.1)\n",
            "Looking in indexes: https://pypi.org/simple, https://us-python.pkg.dev/colab-wheels/public/simple/\n",
            "Requirement already satisfied: pysal in /usr/local/lib/python3.10/dist-packages (23.1)\n",
            "Requirement already satisfied: libpysal>=4.7.0 in /usr/local/lib/python3.10/dist-packages (from pysal) (4.7.0)\n",
            "Requirement already satisfied: access>=1.1.8 in /usr/local/lib/python3.10/dist-packages (from pysal) (1.1.9)\n",
            "Requirement already satisfied: esda>=2.4.1 in /usr/local/lib/python3.10/dist-packages (from pysal) (2.4.3)\n",
            "Requirement already satisfied: giddy>=2.3.3 in /usr/local/lib/python3.10/dist-packages (from pysal) (2.3.4)\n",
            "Requirement already satisfied: inequality>=1.0.0 in /usr/local/lib/python3.10/dist-packages (from pysal) (1.0.0)\n",
            "Requirement already satisfied: pointpats>=2.2.0 in /usr/local/lib/python3.10/dist-packages (from pysal) (2.3.0)\n",
            "Requirement already satisfied: segregation>=2.3.1 in /usr/local/lib/python3.10/dist-packages (from pysal) (2.4.2)\n",
            "Requirement already satisfied: spaghetti>=1.7.2 in /usr/local/lib/python3.10/dist-packages (from pysal) (1.7.3)\n",
            "Requirement already satisfied: mgwr>=2.1.2 in /usr/local/lib/python3.10/dist-packages (from pysal) (2.1.2)\n",
            "Requirement already satisfied: momepy>=0.5.4 in /usr/local/lib/python3.10/dist-packages (from pysal) (0.6.0)\n",
            "Requirement already satisfied: spglm>=1.0.8 in /usr/local/lib/python3.10/dist-packages (from pysal) (1.0.8)\n",
            "Requirement already satisfied: spint>=1.0.7 in /usr/local/lib/python3.10/dist-packages (from pysal) (1.0.7)\n",
            "Requirement already satisfied: spreg>=1.3.0 in /usr/local/lib/python3.10/dist-packages (from pysal) (1.3.2)\n",
            "Requirement already satisfied: spvcm>=0.3.0 in /usr/local/lib/python3.10/dist-packages (from pysal) (0.3.0)\n",
            "Requirement already satisfied: tobler>=0.8.2 in /usr/local/lib/python3.10/dist-packages (from pysal) (0.10)\n",
            "Requirement already satisfied: mapclassify>=2.5.0 in /usr/local/lib/python3.10/dist-packages (from pysal) (2.5.0)\n",
            "Requirement already satisfied: splot>=1.1.5.post1 in /usr/local/lib/python3.10/dist-packages (from pysal) (1.1.5.post1)\n",
            "Requirement already satisfied: spopt>=0.5.0 in /usr/local/lib/python3.10/dist-packages (from pysal) (0.5.0)\n",
            "Requirement already satisfied: geopandas in /usr/local/lib/python3.10/dist-packages (from access>=1.1.8->pysal) (0.13.2)\n",
            "Requirement already satisfied: numpy>=1.3 in /usr/local/lib/python3.10/dist-packages (from access>=1.1.8->pysal) (1.22.4)\n",
            "Requirement already satisfied: pandas>=0.23.4 in /usr/local/lib/python3.10/dist-packages (from access>=1.1.8->pysal) (1.3.5)\n",
            "Requirement already satisfied: requests>=2 in /usr/local/lib/python3.10/dist-packages (from access>=1.1.8->pysal) (2.27.1)\n",
            "Requirement already satisfied: scipy>=0.11 in /usr/local/lib/python3.10/dist-packages (from esda>=2.4.1->pysal) (1.10.1)\n",
            "Requirement already satisfied: scikit-learn in /usr/local/lib/python3.10/dist-packages (from esda>=2.4.1->pysal) (1.2.2)\n",
            "Requirement already satisfied: quantecon>=0.4.7 in /usr/local/lib/python3.10/dist-packages (from giddy>=2.3.3->pysal) (0.7.1)\n",
            "Requirement already satisfied: platformdirs in /usr/local/lib/python3.10/dist-packages (from libpysal>=4.7.0->pysal) (3.3.0)\n",
            "Requirement already satisfied: beautifulsoup4 in /usr/local/lib/python3.10/dist-packages (from libpysal>=4.7.0->pysal) (4.11.2)\n",
            "Requirement already satisfied: jinja2 in /usr/local/lib/python3.10/dist-packages (from libpysal>=4.7.0->pysal) (3.1.2)\n",
            "Requirement already satisfied: packaging in /usr/local/lib/python3.10/dist-packages (from libpysal>=4.7.0->pysal) (23.1)\n",
            "Requirement already satisfied: networkx in /usr/local/lib/python3.10/dist-packages (from mapclassify>=2.5.0->pysal) (3.1)\n",
            "Requirement already satisfied: shapely>=2 in /usr/local/lib/python3.10/dist-packages (from momepy>=0.5.4->pysal) (2.0.1)\n",
            "Requirement already satisfied: tqdm>=4.27.0 in /usr/local/lib/python3.10/dist-packages (from momepy>=0.5.4->pysal) (4.65.0)\n",
            "Requirement already satisfied: matplotlib in /usr/local/lib/python3.10/dist-packages (from pointpats>=2.2.0->pysal) (3.7.1)\n",
            "Requirement already satisfied: deprecation in /usr/local/lib/python3.10/dist-packages (from segregation>=2.3.1->pysal) (2.1.0)\n",
            "Requirement already satisfied: joblib in /usr/local/lib/python3.10/dist-packages (from segregation>=2.3.1->pysal) (1.2.0)\n",
            "Requirement already satisfied: seaborn in /usr/local/lib/python3.10/dist-packages (from segregation>=2.3.1->pysal) (0.12.2)\n",
            "Requirement already satisfied: numba in /usr/local/lib/python3.10/dist-packages (from segregation>=2.3.1->pysal) (0.56.4)\n",
            "Requirement already satisfied: pyproj>=3 in /usr/local/lib/python3.10/dist-packages (from segregation>=2.3.1->pysal) (3.6.0)\n",
            "Requirement already satisfied: rtree in /usr/local/lib/python3.10/dist-packages (from spaghetti>=1.7.2->pysal) (1.0.1)\n",
            "Requirement already satisfied: pulp in /usr/local/lib/python3.10/dist-packages (from spopt>=0.5.0->pysal) (2.7.0)\n",
            "Requirement already satisfied: rasterio in /usr/local/lib/python3.10/dist-packages (from tobler>=0.8.2->pysal) (1.3.7)\n",
            "Requirement already satisfied: statsmodels in /usr/local/lib/python3.10/dist-packages (from tobler>=0.8.2->pysal) (0.13.5)\n",
            "Requirement already satisfied: rasterstats in /usr/local/lib/python3.10/dist-packages (from tobler>=0.8.2->pysal) (0.19.0)\n",
            "Requirement already satisfied: fiona>=1.8.19 in /usr/local/lib/python3.10/dist-packages (from geopandas->access>=1.1.8->pysal) (1.9.4.post1)\n",
            "Requirement already satisfied: python-dateutil>=2.7.3 in /usr/local/lib/python3.10/dist-packages (from pandas>=0.23.4->access>=1.1.8->pysal) (2.8.2)\n",
            "Requirement already satisfied: pytz>=2017.3 in /usr/local/lib/python3.10/dist-packages (from pandas>=0.23.4->access>=1.1.8->pysal) (2022.7.1)\n",
            "Requirement already satisfied: certifi in /usr/local/lib/python3.10/dist-packages (from pyproj>=3->segregation>=2.3.1->pysal) (2022.12.7)\n",
            "Requirement already satisfied: sympy in /usr/local/lib/python3.10/dist-packages (from quantecon>=0.4.7->giddy>=2.3.3->pysal) (1.11.1)\n",
            "Requirement already satisfied: llvmlite<0.40,>=0.39.0dev0 in /usr/local/lib/python3.10/dist-packages (from numba->segregation>=2.3.1->pysal) (0.39.1)\n",
            "Requirement already satisfied: setuptools in /usr/local/lib/python3.10/dist-packages (from numba->segregation>=2.3.1->pysal) (67.7.2)\n",
            "Requirement already satisfied: urllib3<1.27,>=1.21.1 in /usr/local/lib/python3.10/dist-packages (from requests>=2->access>=1.1.8->pysal) (1.26.15)\n",
            "Requirement already satisfied: charset-normalizer~=2.0.0 in /usr/local/lib/python3.10/dist-packages (from requests>=2->access>=1.1.8->pysal) (2.0.12)\n",
            "Requirement already satisfied: idna<4,>=2.5 in /usr/local/lib/python3.10/dist-packages (from requests>=2->access>=1.1.8->pysal) (3.4)\n",
            "Requirement already satisfied: threadpoolctl>=2.0.0 in /usr/local/lib/python3.10/dist-packages (from scikit-learn->esda>=2.4.1->pysal) (3.1.0)\n",
            "Requirement already satisfied: soupsieve>1.2 in /usr/local/lib/python3.10/dist-packages (from beautifulsoup4->libpysal>=4.7.0->pysal) (2.4.1)\n",
            "Requirement already satisfied: MarkupSafe>=2.0 in /usr/local/lib/python3.10/dist-packages (from jinja2->libpysal>=4.7.0->pysal) (2.1.2)\n",
            "Requirement already satisfied: contourpy>=1.0.1 in /usr/local/lib/python3.10/dist-packages (from matplotlib->pointpats>=2.2.0->pysal) (1.0.7)\n",
            "Requirement already satisfied: cycler>=0.10 in /usr/local/lib/python3.10/dist-packages (from matplotlib->pointpats>=2.2.0->pysal) (0.11.0)\n",
            "Requirement already satisfied: fonttools>=4.22.0 in /usr/local/lib/python3.10/dist-packages (from matplotlib->pointpats>=2.2.0->pysal) (4.39.3)\n",
            "Requirement already satisfied: kiwisolver>=1.0.1 in /usr/local/lib/python3.10/dist-packages (from matplotlib->pointpats>=2.2.0->pysal) (1.4.4)\n",
            "Requirement already satisfied: pillow>=6.2.0 in /usr/local/lib/python3.10/dist-packages (from matplotlib->pointpats>=2.2.0->pysal) (8.4.0)\n",
            "Requirement already satisfied: pyparsing>=2.3.1 in /usr/local/lib/python3.10/dist-packages (from matplotlib->pointpats>=2.2.0->pysal) (3.0.9)\n",
            "Requirement already satisfied: affine in /usr/local/lib/python3.10/dist-packages (from rasterio->tobler>=0.8.2->pysal) (2.4.0)\n",
            "Requirement already satisfied: attrs in /usr/local/lib/python3.10/dist-packages (from rasterio->tobler>=0.8.2->pysal) (23.1.0)\n",
            "Requirement already satisfied: click>=4.0 in /usr/local/lib/python3.10/dist-packages (from rasterio->tobler>=0.8.2->pysal) (8.1.3)\n",
            "Requirement already satisfied: cligj>=0.5 in /usr/local/lib/python3.10/dist-packages (from rasterio->tobler>=0.8.2->pysal) (0.7.2)\n",
            "Requirement already satisfied: snuggs>=1.4.1 in /usr/local/lib/python3.10/dist-packages (from rasterio->tobler>=0.8.2->pysal) (1.4.7)\n",
            "Requirement already satisfied: click-plugins in /usr/local/lib/python3.10/dist-packages (from rasterio->tobler>=0.8.2->pysal) (1.1.1)\n",
            "Requirement already satisfied: simplejson in /usr/local/lib/python3.10/dist-packages (from rasterstats->tobler>=0.8.2->pysal) (3.19.1)\n",
            "Requirement already satisfied: patsy>=0.5.2 in /usr/local/lib/python3.10/dist-packages (from statsmodels->tobler>=0.8.2->pysal) (0.5.3)\n",
            "Requirement already satisfied: six in /usr/local/lib/python3.10/dist-packages (from fiona>=1.8.19->geopandas->access>=1.1.8->pysal) (1.16.0)\n",
            "Requirement already satisfied: mpmath>=0.19 in /usr/local/lib/python3.10/dist-packages (from sympy->quantecon>=0.4.7->giddy>=2.3.3->pysal) (1.3.0)\n",
            "Looking in indexes: https://pypi.org/simple, https://us-python.pkg.dev/colab-wheels/public/simple/\n",
            "Requirement already satisfied: geopandas in /usr/local/lib/python3.10/dist-packages (0.13.2)\n",
            "Requirement already satisfied: fiona>=1.8.19 in /usr/local/lib/python3.10/dist-packages (from geopandas) (1.9.4.post1)\n",
            "Requirement already satisfied: packaging in /usr/local/lib/python3.10/dist-packages (from geopandas) (23.1)\n",
            "Requirement already satisfied: pandas>=1.1.0 in /usr/local/lib/python3.10/dist-packages (from geopandas) (1.3.5)\n",
            "Requirement already satisfied: pyproj>=3.0.1 in /usr/local/lib/python3.10/dist-packages (from geopandas) (3.6.0)\n",
            "Requirement already satisfied: shapely>=1.7.1 in /usr/local/lib/python3.10/dist-packages (from geopandas) (2.0.1)\n",
            "Requirement already satisfied: attrs>=19.2.0 in /usr/local/lib/python3.10/dist-packages (from fiona>=1.8.19->geopandas) (23.1.0)\n",
            "Requirement already satisfied: certifi in /usr/local/lib/python3.10/dist-packages (from fiona>=1.8.19->geopandas) (2022.12.7)\n",
            "Requirement already satisfied: click~=8.0 in /usr/local/lib/python3.10/dist-packages (from fiona>=1.8.19->geopandas) (8.1.3)\n",
            "Requirement already satisfied: click-plugins>=1.0 in /usr/local/lib/python3.10/dist-packages (from fiona>=1.8.19->geopandas) (1.1.1)\n",
            "Requirement already satisfied: cligj>=0.5 in /usr/local/lib/python3.10/dist-packages (from fiona>=1.8.19->geopandas) (0.7.2)\n",
            "Requirement already satisfied: six in /usr/local/lib/python3.10/dist-packages (from fiona>=1.8.19->geopandas) (1.16.0)\n",
            "Requirement already satisfied: python-dateutil>=2.7.3 in /usr/local/lib/python3.10/dist-packages (from pandas>=1.1.0->geopandas) (2.8.2)\n",
            "Requirement already satisfied: pytz>=2017.3 in /usr/local/lib/python3.10/dist-packages (from pandas>=1.1.0->geopandas) (2022.7.1)\n",
            "Requirement already satisfied: numpy>=1.21.0 in /usr/local/lib/python3.10/dist-packages (from pandas>=1.1.0->geopandas) (1.22.4)\n",
            "Looking in indexes: https://pypi.org/simple, https://us-python.pkg.dev/colab-wheels/public/simple/\n",
            "Looking in links: https://data.pyg.org/whl/torch-2.0.0+cpu.html\n",
            "Requirement already satisfied: torch_geometric in /usr/local/lib/python3.10/dist-packages (2.3.1)\n",
            "Requirement already satisfied: pyg_lib in /usr/local/lib/python3.10/dist-packages (0.2.0+pt20cpu)\n",
            "Requirement already satisfied: torch_scatter in /usr/local/lib/python3.10/dist-packages (2.1.1+pt20cpu)\n",
            "Requirement already satisfied: torch_sparse in /usr/local/lib/python3.10/dist-packages (0.6.17+pt20cpu)\n",
            "Requirement already satisfied: torch_cluster in /usr/local/lib/python3.10/dist-packages (1.6.1+pt20cpu)\n",
            "Requirement already satisfied: torch_spline_conv in /usr/local/lib/python3.10/dist-packages (1.2.2+pt20cpu)\n",
            "Requirement already satisfied: tqdm in /usr/local/lib/python3.10/dist-packages (from torch_geometric) (4.65.0)\n",
            "Requirement already satisfied: numpy in /usr/local/lib/python3.10/dist-packages (from torch_geometric) (1.22.4)\n",
            "Requirement already satisfied: scipy in /usr/local/lib/python3.10/dist-packages (from torch_geometric) (1.10.1)\n",
            "Requirement already satisfied: jinja2 in /usr/local/lib/python3.10/dist-packages (from torch_geometric) (3.1.2)\n",
            "Requirement already satisfied: requests in /usr/local/lib/python3.10/dist-packages (from torch_geometric) (2.27.1)\n",
            "Requirement already satisfied: pyparsing in /usr/local/lib/python3.10/dist-packages (from torch_geometric) (3.0.9)\n",
            "Requirement already satisfied: scikit-learn in /usr/local/lib/python3.10/dist-packages (from torch_geometric) (1.2.2)\n",
            "Requirement already satisfied: psutil>=5.8.0 in /usr/local/lib/python3.10/dist-packages (from torch_geometric) (5.9.5)\n",
            "Requirement already satisfied: MarkupSafe>=2.0 in /usr/local/lib/python3.10/dist-packages (from jinja2->torch_geometric) (2.1.2)\n",
            "Requirement already satisfied: urllib3<1.27,>=1.21.1 in /usr/local/lib/python3.10/dist-packages (from requests->torch_geometric) (1.26.15)\n",
            "Requirement already satisfied: certifi>=2017.4.17 in /usr/local/lib/python3.10/dist-packages (from requests->torch_geometric) (2022.12.7)\n",
            "Requirement already satisfied: charset-normalizer~=2.0.0 in /usr/local/lib/python3.10/dist-packages (from requests->torch_geometric) (2.0.12)\n",
            "Requirement already satisfied: idna<4,>=2.5 in /usr/local/lib/python3.10/dist-packages (from requests->torch_geometric) (3.4)\n",
            "Requirement already satisfied: joblib>=1.1.1 in /usr/local/lib/python3.10/dist-packages (from scikit-learn->torch_geometric) (1.2.0)\n",
            "Requirement already satisfied: threadpoolctl>=2.0.0 in /usr/local/lib/python3.10/dist-packages (from scikit-learn->torch_geometric) (3.1.0)\n",
            "Looking in indexes: https://pypi.org/simple, https://us-python.pkg.dev/colab-wheels/public/simple/\n",
            "Requirement already satisfied: torch-geometric-temporal in /usr/local/lib/python3.10/dist-packages (0.54.0)\n",
            "Requirement already satisfied: decorator==4.4.2 in /usr/local/lib/python3.10/dist-packages (from torch-geometric-temporal) (4.4.2)\n",
            "Requirement already satisfied: torch in /usr/local/lib/python3.10/dist-packages (from torch-geometric-temporal) (2.0.1+cu118)\n",
            "Requirement already satisfied: cython in /usr/local/lib/python3.10/dist-packages (from torch-geometric-temporal) (0.29.34)\n",
            "Requirement already satisfied: pandas<=1.3.5 in /usr/local/lib/python3.10/dist-packages (from torch-geometric-temporal) (1.3.5)\n",
            "Requirement already satisfied: torch-sparse in /usr/local/lib/python3.10/dist-packages (from torch-geometric-temporal) (0.6.17+pt20cpu)\n",
            "Requirement already satisfied: torch-scatter in /usr/local/lib/python3.10/dist-packages (from torch-geometric-temporal) (2.1.1+pt20cpu)\n",
            "Requirement already satisfied: torch-geometric in /usr/local/lib/python3.10/dist-packages (from torch-geometric-temporal) (2.3.1)\n",
            "Requirement already satisfied: numpy in /usr/local/lib/python3.10/dist-packages (from torch-geometric-temporal) (1.22.4)\n",
            "Requirement already satisfied: six in /usr/local/lib/python3.10/dist-packages (from torch-geometric-temporal) (1.16.0)\n",
            "Requirement already satisfied: networkx in /usr/local/lib/python3.10/dist-packages (from torch-geometric-temporal) (3.1)\n",
            "Requirement already satisfied: python-dateutil>=2.7.3 in /usr/local/lib/python3.10/dist-packages (from pandas<=1.3.5->torch-geometric-temporal) (2.8.2)\n",
            "Requirement already satisfied: pytz>=2017.3 in /usr/local/lib/python3.10/dist-packages (from pandas<=1.3.5->torch-geometric-temporal) (2022.7.1)\n",
            "Requirement already satisfied: filelock in /usr/local/lib/python3.10/dist-packages (from torch->torch-geometric-temporal) (3.12.0)\n",
            "Requirement already satisfied: typing-extensions in /usr/local/lib/python3.10/dist-packages (from torch->torch-geometric-temporal) (4.5.0)\n",
            "Requirement already satisfied: sympy in /usr/local/lib/python3.10/dist-packages (from torch->torch-geometric-temporal) (1.11.1)\n",
            "Requirement already satisfied: jinja2 in /usr/local/lib/python3.10/dist-packages (from torch->torch-geometric-temporal) (3.1.2)\n",
            "Requirement already satisfied: triton==2.0.0 in /usr/local/lib/python3.10/dist-packages (from torch->torch-geometric-temporal) (2.0.0)\n",
            "Requirement already satisfied: cmake in /usr/local/lib/python3.10/dist-packages (from triton==2.0.0->torch->torch-geometric-temporal) (3.25.2)\n",
            "Requirement already satisfied: lit in /usr/local/lib/python3.10/dist-packages (from triton==2.0.0->torch->torch-geometric-temporal) (16.0.5)\n",
            "Requirement already satisfied: tqdm in /usr/local/lib/python3.10/dist-packages (from torch-geometric->torch-geometric-temporal) (4.65.0)\n",
            "Requirement already satisfied: scipy in /usr/local/lib/python3.10/dist-packages (from torch-geometric->torch-geometric-temporal) (1.10.1)\n",
            "Requirement already satisfied: requests in /usr/local/lib/python3.10/dist-packages (from torch-geometric->torch-geometric-temporal) (2.27.1)\n",
            "Requirement already satisfied: pyparsing in /usr/local/lib/python3.10/dist-packages (from torch-geometric->torch-geometric-temporal) (3.0.9)\n",
            "Requirement already satisfied: scikit-learn in /usr/local/lib/python3.10/dist-packages (from torch-geometric->torch-geometric-temporal) (1.2.2)\n",
            "Requirement already satisfied: psutil>=5.8.0 in /usr/local/lib/python3.10/dist-packages (from torch-geometric->torch-geometric-temporal) (5.9.5)\n",
            "Requirement already satisfied: MarkupSafe>=2.0 in /usr/local/lib/python3.10/dist-packages (from jinja2->torch->torch-geometric-temporal) (2.1.2)\n",
            "Requirement already satisfied: urllib3<1.27,>=1.21.1 in /usr/local/lib/python3.10/dist-packages (from requests->torch-geometric->torch-geometric-temporal) (1.26.15)\n",
            "Requirement already satisfied: certifi>=2017.4.17 in /usr/local/lib/python3.10/dist-packages (from requests->torch-geometric->torch-geometric-temporal) (2022.12.7)\n",
            "Requirement already satisfied: charset-normalizer~=2.0.0 in /usr/local/lib/python3.10/dist-packages (from requests->torch-geometric->torch-geometric-temporal) (2.0.12)\n",
            "Requirement already satisfied: idna<4,>=2.5 in /usr/local/lib/python3.10/dist-packages (from requests->torch-geometric->torch-geometric-temporal) (3.4)\n",
            "Requirement already satisfied: joblib>=1.1.1 in /usr/local/lib/python3.10/dist-packages (from scikit-learn->torch-geometric->torch-geometric-temporal) (1.2.0)\n",
            "Requirement already satisfied: threadpoolctl>=2.0.0 in /usr/local/lib/python3.10/dist-packages (from scikit-learn->torch-geometric->torch-geometric-temporal) (3.1.0)\n",
            "Requirement already satisfied: mpmath>=0.19 in /usr/local/lib/python3.10/dist-packages (from sympy->torch->torch-geometric-temporal) (1.3.0)\n",
            "Looking in indexes: https://pypi.org/simple, https://us-python.pkg.dev/colab-wheels/public/simple/\n",
            "Collecting git+https://github.com/FelipeSchreiber/COE770_Machine_Learning_on_Graphs.git\n",
            "  Cloning https://github.com/FelipeSchreiber/COE770_Machine_Learning_on_Graphs.git to /tmp/pip-req-build-1mp75ie8\n",
            "  Running command git clone --filter=blob:none --quiet https://github.com/FelipeSchreiber/COE770_Machine_Learning_on_Graphs.git /tmp/pip-req-build-1mp75ie8\n",
            "  Resolved https://github.com/FelipeSchreiber/COE770_Machine_Learning_on_Graphs.git to commit a112766e70d0b79c6b4322085a6e17750662eb8e\n",
            "  Preparing metadata (setup.py) ... \u001b[?25l\u001b[?25hdone\n",
            "Building wheels for collected packages: covid-dataset\n",
            "  Building wheel for covid-dataset (setup.py) ... \u001b[?25l\u001b[?25hdone\n",
            "  Created wheel for covid-dataset: filename=covid_dataset-1.0-py3-none-any.whl size=9923 sha256=516e1339d05d7026917f38e37cda1bbca17c60cdfec69eed3e98c4dd15b2fa5c\n",
            "  Stored in directory: /tmp/pip-ephem-wheel-cache-l6rm6zl0/wheels/1a/c1/86/a76c4e6aae806c720580596e97b33dc2119a057861d9b8df59\n",
            "Successfully built covid-dataset\n",
            "Installing collected packages: covid-dataset\n",
            "  Attempting uninstall: covid-dataset\n",
            "    Found existing installation: covid-dataset 1.0\n",
            "    Uninstalling covid-dataset-1.0:\n",
            "      Successfully uninstalled covid-dataset-1.0\n",
            "Successfully installed covid-dataset-1.0\n"
          ]
        }
      ]
    },
    {
      "cell_type": "code",
      "source": [
        "import torch\n",
        "import gc\n",
        "from torch import nn\n",
        "import torch.nn.functional as F\n",
        "from torch_geometric_temporal.nn.recurrent import *\n",
        "from torch_geometric_temporal.dataset import ChickenpoxDatasetLoader\n",
        "from torch_geometric_temporal.signal import temporal_signal_split\n",
        "from torch_geometric.nn.models import GIN\n",
        "from dataset.covidBR_dataset import *\n",
        "from model.covid_model import *\n",
        "from google.colab import drive\n",
        "from google.colab import runtime\n",
        "import pickle\n",
        "import matplotlib.pyplot as plt\n",
        "import numpy as np\n",
        "\n",
        "drive.mount('/content/drive')\n",
        "device = \"cpu\"\n",
        "dtype = torch.FloatTensor\n",
        "if torch.cuda.is_available():\n",
        "    dtype = torch.cuda.FloatTensor\n",
        "    device = \"cuda\""
      ],
      "metadata": {
        "colab": {
          "base_uri": "https://localhost:8080/"
        },
        "id": "kjBh7ncM2LcK",
        "outputId": "066aac17-6e1a-49fc-b99d-56ccea4a74d6"
      },
      "execution_count": 2,
      "outputs": [
        {
          "output_type": "stream",
          "name": "stdout",
          "text": [
            "Drive already mounted at /content/drive; to attempt to forcibly remount, call drive.mount(\"/content/drive\", force_remount=True).\n"
          ]
        }
      ]
    },
    {
      "cell_type": "code",
      "source": [
        "device"
      ],
      "metadata": {
        "colab": {
          "base_uri": "https://localhost:8080/",
          "height": 35
        },
        "id": "wZkzyC7K2pZd",
        "outputId": "ee85844a-8f0e-457c-9707-9e0a4408c4b5"
      },
      "execution_count": 3,
      "outputs": [
        {
          "output_type": "execute_result",
          "data": {
            "text/plain": [
              "'cuda'"
            ],
            "application/vnd.google.colaboratory.intrinsic+json": {
              "type": "string"
            }
          },
          "metadata": {},
          "execution_count": 3
        }
      ]
    },
    {
      "cell_type": "code",
      "source": [
        "class MY_ADCRNN_(torch.nn.Module):\n",
        "    def __init__(self,num_features=35,out_channels = 5,num_filters=3):\n",
        "        super(MY_ADCRNN_, self).__init__()\n",
        "        # self.MLP = MLP(num_input = num_features,hidden_output=100, num_output=out_channels)\n",
        "        # self.gin = GIN(in_channels = num_features, hidden_channels = 100, num_layers = 1, out_channels = num_features)\n",
        "        self.recurrent = ADCRNN(in_channels = num_features, out_channels = out_channels,\\\n",
        "                  K = num_filters, bias = True)\n",
        "        self.linear = torch.nn.Linear(out_channels, 1)\n",
        "\n",
        "    def forward(self, x, edge_index, edge_weight,h,c):\n",
        "        h_1=None\n",
        "        # h_1 = self.MLP(x)\n",
        "        # x = self.gin(x,edge_index)\n",
        "        h_2,A = self.recurrent(x, edge_index, edge_weight, H=h_1)\n",
        "        # h_3,_ = self.recurrent(x, edge_index, edge_weight, H=h_2, residual_matrix=A)\n",
        "        h_4 = F.relu(h_2)\n",
        "        y = self.linear(h_4)\n",
        "        return y,None,None\n",
        "\n",
        "class MY_TGCN_(torch.nn.Module):\n",
        "    def __init__(self, node_features,output_size=32):\n",
        "        super(MY_TGCN_, self).__init__()\n",
        "        self.recurrent = TGCN(node_features, output_size)\n",
        "        self.linear = torch.nn.Linear(output_size, 1)\n",
        "\n",
        "    def forward(self, x, edge_index, edge_weight, prev_hidden_state, c):\n",
        "        h = self.recurrent(x, edge_index, edge_weight, prev_hidden_state)\n",
        "        y = F.relu(h)\n",
        "        y = self.linear(y)\n",
        "        return y, h, None\n",
        "\n",
        "class MY_A3TGCN_(torch.nn.Module):\n",
        "    def __init__(self, node_features, output_size=32, periods = 1):\n",
        "        super(MY_A3TGCN_, self).__init__()\n",
        "        self.recurrent = A3TGCN(node_features, output_size, periods)\n",
        "        self.linear = torch.nn.Linear(output_size, 1)\n",
        "\n",
        "    def forward(self, x, edge_index, edge_weight, h, c):\n",
        "        h = self.recurrent(x.view(x.shape[0], 1, x.shape[1]), edge_index, edge_weight)\n",
        "        h = F.relu(h)\n",
        "        h = self.linear(h)\n",
        "        return h, None, None\n",
        "\n",
        "class MY_AGCRN_(torch.nn.Module):\n",
        "    def __init__(self, node_features, output_size = 2, filter_size=2, num_nodes=5570,emb_dims=35):\n",
        "        super(MY_AGCRN_, self).__init__()\n",
        "        self.recurrent = AGCRN(number_of_nodes = num_nodes,\n",
        "                              in_channels = node_features,\n",
        "                              out_channels = output_size,\n",
        "                              K = filter_size,\n",
        "                              embedding_dimensions = emb_dims)\n",
        "        self.linear = torch.nn.Linear(output_size, 1)\n",
        "        self.num_nodes = num_nodes\n",
        "        self.num_feats = node_features\n",
        "\n",
        "    def forward(self, x, ignore, ignore_, h, e):\n",
        "        x = x.view(1, self.num_nodes , self.num_feats)\n",
        "        # print(h,e.shape)\n",
        "        h_0 = self.recurrent(x, e, h)\n",
        "        y = F.relu(h_0)\n",
        "        y = self.linear(y)\n",
        "        return y, h_0, e\n",
        "\n",
        "class MY_DCRNN_(torch.nn.Module):\n",
        "    def __init__(self, node_features, output_size=32, filter_size=2):\n",
        "        super(MY_DCRNN_, self).__init__()\n",
        "        self.recurrent = DCRNN(in_channels=node_features, out_channels=output_size, K=filter_size)\n",
        "        self.linear = torch.nn.Linear(output_size, 1)\n",
        "\n",
        "    def forward(self, x, edge_index, edge_weight, h_, c):\n",
        "        h = self.recurrent(x, edge_index, edge_weight)\n",
        "        h = F.relu(h)\n",
        "        h = self.linear(h)\n",
        "        return h, None, None\n",
        "\n",
        "class  MY_GConvGRU_(torch.nn.Module):\n",
        "    def __init__(self, node_features, output_size=32, filter_size=2):\n",
        "        super(MY_GConvGRU_, self).__init__()\n",
        "        self.recurrent = GConvGRU(node_features, output_size, K = filter_size)\n",
        "        self.linear = torch.nn.Linear(output_size, 1)\n",
        "\n",
        "    def forward(self, x, edge_index, edge_weight, h_, c):\n",
        "        h = self.recurrent(x, edge_index, edge_weight)\n",
        "        h = F.relu(h)\n",
        "        h = self.linear(h)\n",
        "        return h, None, None\n",
        "\n",
        "class MY_GCLSTM_(torch.nn.Module):\n",
        "    def __init__(self, node_features,output_size, filter_size=2):\n",
        "        super(MY_GCLSTM_, self).__init__()\n",
        "        self.recurrent = GCLSTM(node_features, output_size, filter_size)\n",
        "        self.linear = torch.nn.Linear(output_size, 1)\n",
        "        # self.h = self.c = None\n",
        "\n",
        "    def forward(self, x, edge_index, edge_weight, h, c):\n",
        "        h_0, c_0 = self.recurrent(x, edge_index, edge_weight, h, c)\n",
        "        h = F.relu(h_0)\n",
        "        h = self.linear(h)\n",
        "        return h, h_0, c_0\n",
        "\n",
        "def make_models(num_feats,output_size=32,filter_size=2,num_nodes=5570):\n",
        "    # models = []\n",
        "    # for layer in layers:\n",
        "    #     models.append(RecurrentGCN(layer,output_size))\n",
        "    models = [\n",
        "              MY_ADCRNN_(num_feats,output_size,filter_size),\n",
        "              MY_TGCN_(node_features=num_feats, output_size = output_size),\n",
        "              # MY_A3TGCN_(node_features = num_feats, output_size = output_size),\n",
        "              MY_AGCRN_(node_features = num_feats, output_size = output_size, filter_size=filter_size,\\\n",
        "                        num_nodes=num_nodes,emb_dims=num_feats),\n",
        "              MY_DCRNN_(node_features= num_feats),\n",
        "              MY_GConvGRU_(node_features= num_feats, output_size=output_size, filter_size=filter_size)\n",
        "              # MY_GCLSTM_(node_features= num_feats, output_size=output_size, filter_size=filter_size)\n",
        "              ]\n",
        "    model_names = [\"ADCRNN\",\"TGCN\",\"AGCRN\",\"DCRNN\",\"GConvGRU\"]\n",
        "    return models,model_names"
      ],
      "metadata": {
        "id": "NT2qY5l6BXg2"
      },
      "execution_count": 4,
      "outputs": []
    },
    {
      "cell_type": "code",
      "source": [
        "# class MY_DCRNN_(torch.nn.Module):\n",
        "#     def __init__(self, node_features, output_size=32, filter_size=2):\n",
        "#         super(MY_DCRNN_, self).__init__()\n",
        "#         self.recurrent = DCRNN(in_channels=node_features, out_channels=output_size, K=filter_size)\n",
        "#         self.linear = torch.nn.Linear(output_size, 1)\n",
        "\n",
        "#     def forward(self, x, edge_index, edge_weight):\n",
        "#         h = self.recurrent(x, edge_index, edge_weight)\n",
        "#         h = F.relu(h)\n",
        "#         h = self.linear(h)\n",
        "#         return h"
      ],
      "metadata": {
        "id": "DbGQj8dLC59h"
      },
      "execution_count": 5,
      "outputs": []
    },
    {
      "cell_type": "code",
      "execution_count": 6,
      "metadata": {
        "colab": {
          "base_uri": "https://localhost:8080/",
          "height": 1000
        },
        "id": "voWs-t3WpIpb",
        "outputId": "18a55f8c-b855-40a6-ca40-8d7fc1bbaa5d"
      },
      "outputs": [
        {
          "output_type": "stream",
          "name": "stderr",
          "text": [
            "100%|██████████| 50/50 [02:48<00:00,  3.37s/it]\n"
          ]
        },
        {
          "output_type": "stream",
          "name": "stdout",
          "text": [
            "1.0606334937843853\n",
            "ADCRNN\n",
            "MY_ADCRNN_(\n",
            "  (gin): GIN(4, 4, num_layers=1)\n",
            "  (recurrent): ADCRNN(\n",
            "    (conv_x_z): ADConv(36, 32)\n",
            "    (conv_x_r): ADConv(36, 32)\n",
            "    (conv_x_h): ADConv(36, 32)\n",
            "    (PReLU_layer): PReLU(num_parameters=1)\n",
            "  )\n",
            "  (linear): Linear(in_features=32, out_features=1, bias=True)\n",
            ")\n"
          ]
        },
        {
          "output_type": "stream",
          "name": "stderr",
          "text": [
            "100%|██████████| 50/50 [08:11<00:00,  9.84s/it]\n"
          ]
        },
        {
          "output_type": "stream",
          "name": "stdout",
          "text": [
            "1.034483489759553\n",
            "TGCN\n",
            "MY_TGCN_(\n",
            "  (recurrent): TGCN(\n",
            "    (conv_z): GCNConv(4, 32)\n",
            "    (linear_z): Linear(in_features=64, out_features=32, bias=True)\n",
            "    (conv_r): GCNConv(4, 32)\n",
            "    (linear_r): Linear(in_features=64, out_features=32, bias=True)\n",
            "    (conv_h): GCNConv(4, 32)\n",
            "    (linear_h): Linear(in_features=64, out_features=32, bias=True)\n",
            "  )\n",
            "  (linear): Linear(in_features=32, out_features=1, bias=True)\n",
            ")\n"
          ]
        },
        {
          "output_type": "stream",
          "name": "stderr",
          "text": [
            "100%|██████████| 50/50 [09:21<00:00, 11.23s/it]\n"
          ]
        },
        {
          "output_type": "stream",
          "name": "stdout",
          "text": [
            "1.034363923773456\n",
            "AGCRN\n",
            "MY_AGCRN_(\n",
            "  (recurrent): AGCRN(\n",
            "    (_gate): AVWGCN()\n",
            "    (_update): AVWGCN()\n",
            "  )\n",
            "  (linear): Linear(in_features=32, out_features=1, bias=True)\n",
            ")\n"
          ]
        },
        {
          "output_type": "stream",
          "name": "stderr",
          "text": [
            "100%|██████████| 50/50 [02:22<00:00,  2.86s/it]\n"
          ]
        },
        {
          "output_type": "stream",
          "name": "stdout",
          "text": [
            "1.0525257170486908\n",
            "DCRNN\n",
            "MY_DCRNN_(\n",
            "  (recurrent): DCRNN(\n",
            "    (conv_x_z): DConv(36, 32)\n",
            "    (conv_x_r): DConv(36, 32)\n",
            "    (conv_x_h): DConv(36, 32)\n",
            "  )\n",
            "  (linear): Linear(in_features=32, out_features=1, bias=True)\n",
            ")\n"
          ]
        },
        {
          "output_type": "stream",
          "name": "stderr",
          "text": [
            "100%|██████████| 50/50 [02:54<00:00,  3.49s/it]\n"
          ]
        },
        {
          "output_type": "stream",
          "name": "stdout",
          "text": [
            "1.0503496162127703\n",
            "GConvGRU\n",
            "MY_GConvGRU_(\n",
            "  (recurrent): GConvGRU(\n",
            "    (conv_x_z): ChebConv(4, 32, K=2, normalization=sym)\n",
            "    (conv_h_z): ChebConv(32, 32, K=2, normalization=sym)\n",
            "    (conv_x_r): ChebConv(4, 32, K=2, normalization=sym)\n",
            "    (conv_h_r): ChebConv(32, 32, K=2, normalization=sym)\n",
            "    (conv_x_h): ChebConv(4, 32, K=2, normalization=sym)\n",
            "    (conv_h_h): ChebConv(32, 32, K=2, normalization=sym)\n",
            "  )\n",
            "  (linear): Linear(in_features=32, out_features=1, bias=True)\n",
            ")\n"
          ]
        },
        {
          "output_type": "display_data",
          "data": {
            "text/plain": [
              "<Figure size 640x480 with 1 Axes>"
            ],
            "image/png": "[encoded data removed]"
          },
          "metadata": {}
        }
      ],
      "source": [
        "try:\n",
        "    from tqdm import tqdm\n",
        "except ImportError:\n",
        "    def tqdm(iterable):\n",
        "        return iterable\n",
        "\n",
        "loader = ChickenpoxDatasetLoader()\n",
        "\n",
        "dataset = loader.get_dataset()\n",
        "\n",
        "# loader = CovidDatasetLoader(method=\"other\")\n",
        "# dataset = loader.get_dataset(lags=4)\n",
        "train_dataset, test_dataset = temporal_signal_split(dataset, train_ratio=0.8)\n",
        "\n",
        "num_nodes = dataset[0].x.shape[0]\n",
        "num_feats = dataset[0].x.shape[1]\n",
        "filter_size=2\n",
        "output_size=32\n",
        "\n",
        "gdrive_path = \"/content/drive/MyDrive/COE770_GNN/\"\n",
        "stats = {\"MSE\":[],\"model\":[]}\n",
        "models,model_names = make_models(num_feats,output_size,num_nodes=num_nodes)\n",
        "\n",
        "for model,model_name in zip(models,model_names):\n",
        "  model.to(device)\n",
        "\n",
        "  optimizer = torch.optim.Adam(model.parameters(), lr=0.01)\n",
        "\n",
        "  h, c = None, None\n",
        "  model.train()\n",
        "\n",
        "  if model_name == \"AGCRN\":\n",
        "    c = torch.empty(num_nodes, num_feats).to(device)\n",
        "    torch.nn.init.xavier_uniform_(c)\n",
        "\n",
        "  for epoch in tqdm(range(50)):\n",
        "      cost = 0\n",
        "      for time, snapshot in enumerate(train_dataset):\n",
        "          snapshot.to(device)\n",
        "          y_hat,h,c = model(snapshot.x, snapshot.edge_index, snapshot.edge_attr,h,c)\n",
        "          cost = cost + torch.mean((y_hat-snapshot.y)**2)\n",
        "      cost = cost / (time+1)\n",
        "      cost.backward(retain_graph=True)\n",
        "      optimizer.step()\n",
        "      optimizer.zero_grad()\n",
        "          # del snapshot\n",
        "      if epoch % 10 == 0:\n",
        "        filepath = f\"./{model_name}\"\n",
        "        if (os.path.isfile(filepath)):\n",
        "          os.remove(filepath)\n",
        "        torch.save(model.state_dict(), filepath)\n",
        "        torch.save(model.state_dict(), gdrive_path+model_name)\n",
        "  torch.save(model, f\"./the_whole_model_{model_name}\")\n",
        "  torch.save(model, gdrive_path+f\"the_whole_model_{model_name}\")\n",
        "  model.eval()\n",
        "  cost = 0\n",
        "  for time, snapshot in enumerate(test_dataset):\n",
        "      snapshot.to(device)\n",
        "      y_hat,h,c = model(snapshot.x, snapshot.edge_index, snapshot.edge_attr,h,c)\n",
        "      cost = cost + torch.mean((y_hat-snapshot.y)**2).item()\n",
        "      del snapshot\n",
        "  cost = cost / (time+1)\n",
        "  print(cost)\n",
        "  stats[\"MSE\"].append(cost)\n",
        "  stats[\"model\"].append(model_name)\n",
        "  print(model_name)\n",
        "  model.load_state_dict(torch.load(gdrive_path+model_name))\n",
        "  model.to(device)\n",
        "  print(model)\n",
        "  preds = []\n",
        "  y = []\n",
        "  cost = 0\n",
        "  for time, snapshot in enumerate(dataset):\n",
        "      snapshot.to(device)\n",
        "      y_hat,h,c  = model(snapshot.x, snapshot.edge_index, snapshot.edge_attr,h,c )\n",
        "      preds.append(y_hat.sum().cpu().detach().numpy())\n",
        "      y.append(snapshot.y.sum().cpu().detach().numpy())\n",
        "      cost+=(y[-1] - preds[-1])**2\n",
        "      del snapshot\n",
        "  plt.plot(preds,label=f\"{model_name} - MSE: {cost/(time+1):.4f}\")\n",
        "  stats['MSE'].append(cost/(time+1))\n",
        "  stats[\"model\"].append(model_name)\n",
        "  if model_name == \"TGCN\":\n",
        "    plt.plot(y,label=f\"Y\")\n",
        "  # print(\"MSE: {:.4f}\".format(cost))\n",
        "plt.legend(bbox_to_anchor=(1, 1))\n",
        "plt.ylabel(\"Total de casos agregados\")\n",
        "plt.xticks(rotation=45)\n",
        "plt.show()"
      ]
    },
    {
      "cell_type": "code",
      "source": [
        "# model_name=\"DCRNN\"\n",
        "# gdrive_path = \"/content/drive/MyDrive/COE770_GNN/\"\n",
        "# torch.save(model.state_dict(), f\"./{model_name}\")\n",
        "# torch.save(model.state_dict(), gdrive_path+model_name)"
      ],
      "metadata": {
        "id": "cX-cYsQSLwQL"
      },
      "execution_count": null,
      "outputs": []
    },
    {
      "cell_type": "code",
      "source": [
        "\"\"\"\n",
        "DCRNN: MSE: 69988044.3684\n",
        "\"\"\""
      ],
      "metadata": {
        "id": "ukrU6WBtLgbH"
      },
      "execution_count": null,
      "outputs": []
    },
    {
      "cell_type": "code",
      "source": [
        "with open('covid_other_algos.pickle', 'wb') as handle:\n",
        "    pickle.dump(stats, handle, protocol=pickle.HIGHEST_PROTOCOL)\n",
        "!cp \"/content/covid_other_algos.pickle\" \"/content/drive/MyDrive\"\n",
        "test_0=None\n",
        "with open(\"/content/drive/MyDrive/covid_other_algos.pickle\", 'rb') as handle:\n",
        "    test_0 = pickle.load(handle)\n",
        "test_0.keys()"
      ],
      "metadata": {
        "id": "2_ETyVqzKvO0"
      },
      "execution_count": null,
      "outputs": []
    },
    {
      "cell_type": "code",
      "source": [
        "loader = CovidDatasetLoader(method=\"other\")\n",
        "dataset = loader.get_dataset(lags=4)\n",
        "train_dataset, test_dataset = temporal_signal_split(dataset, train_ratio=0.8)\n",
        "num_feats = dataset[0].x.shape[1]\n",
        "stats = {\"MSE\":[],\"model\":[], \"filter_size\":[]}\n",
        "\n",
        "filter_sizes = [2,4,8,16]\n",
        "for filter_size in filter_sizes:\n",
        "  model = MY_DCRNN_(node_features = num_feats, output_size=32, filter_size=filter_size).to(device)\n",
        "  optimizer = torch.optim.Adam(model.parameters(), lr=0.01)\n",
        "  model.train()\n",
        "  h = c = None\n",
        "  for epoch in tqdm(range(100)):\n",
        "    for time, snapshot in enumerate(train_dataset):\n",
        "      snapshot.to(device)\n",
        "      y_hat,h,c  = model(snapshot.x, snapshot.edge_index, snapshot.edge_attr,h,c)\n",
        "      cost = torch.mean((y_hat-snapshot.y)**2)\n",
        "      cost.backward()\n",
        "      optimizer.step()\n",
        "      optimizer.zero_grad()\n",
        "      del snapshot\n",
        "    if epoch % 10 == 0:\n",
        "      filepath = f\"./model_weights_DCRNN_Covid_{filter_size}\"\n",
        "      if (os.path.isfile(filepath)):\n",
        "        os.remove(filepath)\n",
        "        torch.save(model.state_dict(), filepath)\n",
        "        torch.save(model.state_dict(), gdrive_path+filepath)\n",
        "  torch.save(model, f\"./the_whole_model_DCRNN_Covid_{filter_size}\")\n",
        "  model.eval()\n",
        "  cost = 0\n",
        "\n",
        "  for time, snapshot in enumerate(test_dataset):\n",
        "      snapshot.to(device)\n",
        "      y_hat,h,c = model(snapshot.x, snapshot.edge_index, snapshot.edge_attr,h,c)\n",
        "      cost = cost + torch.mean((y_hat-snapshot.y)**2).item()\n",
        "      del snapshot\n",
        "  cost = cost / (time+1)\n",
        "  stats[\"MSE\"].append(cost)\n",
        "  stats[\"model\"].append(\"DCRNN\")\n",
        "  stats[\"filter_size\"].append(filter_size)\n",
        "stats"
      ],
      "metadata": {
        "id": "m7ND3bnJg61h"
      },
      "execution_count": null,
      "outputs": []
    },
    {
      "cell_type": "code",
      "source": [
        "with open('covid_DCRNN_stats.pickle', 'wb') as handle:\n",
        "    pickle.dump(stats, handle, protocol=pickle.HIGHEST_PROTOCOL)\n",
        "!cp \"/content/covid_DCRNN_stats.pickle\" \"/content/drive/MyDrive\"\n",
        "test_0=None\n",
        "with open(\"/content/drive/MyDrive/covid_DCRNN_stats.pickle\", 'rb') as handle:\n",
        "    test_0 = pickle.load(handle)\n",
        "test_0.keys()"
      ],
      "metadata": {
        "id": "m1cAv2_8oR0B"
      },
      "execution_count": null,
      "outputs": []
    },
    {
      "cell_type": "code",
      "source": [
        "runtime.unassign()"
      ],
      "metadata": {
        "id": "7fFuINk0INJf"
      },
      "execution_count": null,
      "outputs": []
    }
  ]
}