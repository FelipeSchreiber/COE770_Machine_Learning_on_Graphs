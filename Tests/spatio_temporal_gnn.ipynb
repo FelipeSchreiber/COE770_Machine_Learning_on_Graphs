{
  "cells": [
    {
      "cell_type": "code",
      "execution_count": 1,
      "metadata": {
        "colab": {
          "base_uri": "https://localhost:8080/"
        },
        "id": "VyGDmIf7kFsV",
        "outputId": "25b7a452-d9f0-41cf-bf92-653cb9a49563"
      },
      "outputs": [
        {
          "output_type": "stream",
          "name": "stdout",
          "text": [
            "Looking in indexes: https://pypi.org/simple, https://us-python.pkg.dev/colab-wheels/public/simple/\n",
            "Requirement already satisfied: gdown in /usr/local/lib/python3.10/dist-packages (4.6.6)\n",
            "Requirement already satisfied: filelock in /usr/local/lib/python3.10/dist-packages (from gdown) (3.12.0)\n",
            "Requirement already satisfied: requests[socks] in /usr/local/lib/python3.10/dist-packages (from gdown) (2.27.1)\n",
            "Requirement already satisfied: six in /usr/local/lib/python3.10/dist-packages (from gdown) (1.16.0)\n",
            "Requirement already satisfied: tqdm in /usr/local/lib/python3.10/dist-packages (from gdown) (4.65.0)\n",
            "Requirement already satisfied: beautifulsoup4 in /usr/local/lib/python3.10/dist-packages (from gdown) (4.11.2)\n",
            "Requirement already satisfied: soupsieve>1.2 in /usr/local/lib/python3.10/dist-packages (from beautifulsoup4->gdown) (2.4.1)\n",
            "Requirement already satisfied: urllib3<1.27,>=1.21.1 in /usr/local/lib/python3.10/dist-packages (from requests[socks]->gdown) (1.26.15)\n",
            "Requirement already satisfied: certifi>=2017.4.17 in /usr/local/lib/python3.10/dist-packages (from requests[socks]->gdown) (2022.12.7)\n",
            "Requirement already satisfied: charset-normalizer~=2.0.0 in /usr/local/lib/python3.10/dist-packages (from requests[socks]->gdown) (2.0.12)\n",
            "Requirement already satisfied: idna<4,>=2.5 in /usr/local/lib/python3.10/dist-packages (from requests[socks]->gdown) (3.4)\n",
            "Requirement already satisfied: PySocks!=1.5.7,>=1.5.6 in /usr/local/lib/python3.10/dist-packages (from requests[socks]->gdown) (1.7.1)\n"
          ]
        }
      ],
      "source": [
        "!pip install gdown"
      ]
    },
    {
      "cell_type": "code",
      "execution_count": null,
      "metadata": {
        "colab": {
          "base_uri": "https://localhost:8080/"
        },
        "id": "TlfbRV0ey137",
        "outputId": "bcbd9e12-b4e2-4d71-ca33-fa23533d4eed"
      },
      "outputs": [
        {
          "output_type": "stream",
          "name": "stdout",
          "text": [
            "Looking in indexes: https://pypi.org/simple, https://us-python.pkg.dev/colab-wheels/public/simple/\n",
            "Requirement already satisfied: pysal in /usr/local/lib/python3.10/dist-packages (23.1)\n",
            "Requirement already satisfied: libpysal>=4.7.0 in /usr/local/lib/python3.10/dist-packages (from pysal) (4.7.0)\n",
            "Requirement already satisfied: access>=1.1.8 in /usr/local/lib/python3.10/dist-packages (from pysal) (1.1.9)\n",
            "Requirement already satisfied: esda>=2.4.1 in /usr/local/lib/python3.10/dist-packages (from pysal) (2.4.3)\n",
            "Requirement already satisfied: giddy>=2.3.3 in /usr/local/lib/python3.10/dist-packages (from pysal) (2.3.4)\n",
            "Requirement already satisfied: inequality>=1.0.0 in /usr/local/lib/python3.10/dist-packages (from pysal) (1.0.0)\n",
            "Requirement already satisfied: pointpats>=2.2.0 in /usr/local/lib/python3.10/dist-packages (from pysal) (2.3.0)\n",
            "Requirement already satisfied: segregation>=2.3.1 in /usr/local/lib/python3.10/dist-packages (from pysal) (2.4.2)\n",
            "Requirement already satisfied: spaghetti>=1.7.2 in /usr/local/lib/python3.10/dist-packages (from pysal) (1.7.3)\n",
            "Requirement already satisfied: mgwr>=2.1.2 in /usr/local/lib/python3.10/dist-packages (from pysal) (2.1.2)\n",
            "Requirement already satisfied: momepy>=0.5.4 in /usr/local/lib/python3.10/dist-packages (from pysal) (0.6.0)\n",
            "Requirement already satisfied: spglm>=1.0.8 in /usr/local/lib/python3.10/dist-packages (from pysal) (1.0.8)\n",
            "Requirement already satisfied: spint>=1.0.7 in /usr/local/lib/python3.10/dist-packages (from pysal) (1.0.7)\n",
            "Requirement already satisfied: spreg>=1.3.0 in /usr/local/lib/python3.10/dist-packages (from pysal) (1.3.2)\n",
            "Requirement already satisfied: spvcm>=0.3.0 in /usr/local/lib/python3.10/dist-packages (from pysal) (0.3.0)\n",
            "Requirement already satisfied: tobler>=0.8.2 in /usr/local/lib/python3.10/dist-packages (from pysal) (0.10)\n",
            "Requirement already satisfied: mapclassify>=2.5.0 in /usr/local/lib/python3.10/dist-packages (from pysal) (2.5.0)\n",
            "Requirement already satisfied: splot>=1.1.5.post1 in /usr/local/lib/python3.10/dist-packages (from pysal) (1.1.5.post1)\n",
            "Requirement already satisfied: spopt>=0.5.0 in /usr/local/lib/python3.10/dist-packages (from pysal) (0.5.0)\n",
            "Requirement already satisfied: geopandas in /usr/local/lib/python3.10/dist-packages (from access>=1.1.8->pysal) (0.13.2)\n",
            "Requirement already satisfied: numpy>=1.3 in /usr/local/lib/python3.10/dist-packages (from access>=1.1.8->pysal) (1.22.4)\n",
            "Requirement already satisfied: pandas>=0.23.4 in /usr/local/lib/python3.10/dist-packages (from access>=1.1.8->pysal) (1.3.5)\n",
            "Requirement already satisfied: requests>=2 in /usr/local/lib/python3.10/dist-packages (from access>=1.1.8->pysal) (2.27.1)\n",
            "Requirement already satisfied: scipy>=0.11 in /usr/local/lib/python3.10/dist-packages (from esda>=2.4.1->pysal) (1.10.1)\n",
            "Requirement already satisfied: scikit-learn in /usr/local/lib/python3.10/dist-packages (from esda>=2.4.1->pysal) (1.2.2)\n",
            "Requirement already satisfied: quantecon>=0.4.7 in /usr/local/lib/python3.10/dist-packages (from giddy>=2.3.3->pysal) (0.7.1)\n",
            "Requirement already satisfied: platformdirs in /usr/local/lib/python3.10/dist-packages (from libpysal>=4.7.0->pysal) (3.3.0)\n",
            "Requirement already satisfied: beautifulsoup4 in /usr/local/lib/python3.10/dist-packages (from libpysal>=4.7.0->pysal) (4.11.2)\n",
            "Requirement already satisfied: jinja2 in /usr/local/lib/python3.10/dist-packages (from libpysal>=4.7.0->pysal) (3.1.2)\n",
            "Requirement already satisfied: packaging in /usr/local/lib/python3.10/dist-packages (from libpysal>=4.7.0->pysal) (23.1)\n",
            "Requirement already satisfied: networkx in /usr/local/lib/python3.10/dist-packages (from mapclassify>=2.5.0->pysal) (3.1)\n",
            "Requirement already satisfied: shapely>=2 in /usr/local/lib/python3.10/dist-packages (from momepy>=0.5.4->pysal) (2.0.1)\n",
            "Requirement already satisfied: tqdm>=4.27.0 in /usr/local/lib/python3.10/dist-packages (from momepy>=0.5.4->pysal) (4.65.0)\n",
            "Requirement already satisfied: matplotlib in /usr/local/lib/python3.10/dist-packages (from pointpats>=2.2.0->pysal) (3.7.1)\n",
            "Requirement already satisfied: deprecation in /usr/local/lib/python3.10/dist-packages (from segregation>=2.3.1->pysal) (2.1.0)\n",
            "Requirement already satisfied: joblib in /usr/local/lib/python3.10/dist-packages (from segregation>=2.3.1->pysal) (1.2.0)\n",
            "Requirement already satisfied: seaborn in /usr/local/lib/python3.10/dist-packages (from segregation>=2.3.1->pysal) (0.12.2)\n",
            "Requirement already satisfied: numba in /usr/local/lib/python3.10/dist-packages (from segregation>=2.3.1->pysal) (0.56.4)\n",
            "Requirement already satisfied: pyproj>=3 in /usr/local/lib/python3.10/dist-packages (from segregation>=2.3.1->pysal) (3.5.0)\n",
            "Requirement already satisfied: rtree in /usr/local/lib/python3.10/dist-packages (from spaghetti>=1.7.2->pysal) (1.0.1)\n",
            "Requirement already satisfied: pulp in /usr/local/lib/python3.10/dist-packages (from spopt>=0.5.0->pysal) (2.7.0)\n",
            "Requirement already satisfied: rasterio in /usr/local/lib/python3.10/dist-packages (from tobler>=0.8.2->pysal) (1.3.7)\n",
            "Requirement already satisfied: statsmodels in /usr/local/lib/python3.10/dist-packages (from tobler>=0.8.2->pysal) (0.13.5)\n",
            "Requirement already satisfied: rasterstats in /usr/local/lib/python3.10/dist-packages (from tobler>=0.8.2->pysal) (0.19.0)\n",
            "Requirement already satisfied: fiona>=1.8.19 in /usr/local/lib/python3.10/dist-packages (from geopandas->access>=1.1.8->pysal) (1.9.4.post1)\n",
            "Requirement already satisfied: python-dateutil>=2.7.3 in /usr/local/lib/python3.10/dist-packages (from pandas>=0.23.4->access>=1.1.8->pysal) (2.8.2)\n",
            "Requirement already satisfied: pytz>=2017.3 in /usr/local/lib/python3.10/dist-packages (from pandas>=0.23.4->access>=1.1.8->pysal) (2022.7.1)\n",
            "Requirement already satisfied: certifi in /usr/local/lib/python3.10/dist-packages (from pyproj>=3->segregation>=2.3.1->pysal) (2022.12.7)\n",
            "Requirement already satisfied: sympy in /usr/local/lib/python3.10/dist-packages (from quantecon>=0.4.7->giddy>=2.3.3->pysal) (1.11.1)\n",
            "Requirement already satisfied: llvmlite<0.40,>=0.39.0dev0 in /usr/local/lib/python3.10/dist-packages (from numba->segregation>=2.3.1->pysal) (0.39.1)\n",
            "Requirement already satisfied: setuptools in /usr/local/lib/python3.10/dist-packages (from numba->segregation>=2.3.1->pysal) (67.7.2)\n",
            "Requirement already satisfied: urllib3<1.27,>=1.21.1 in /usr/local/lib/python3.10/dist-packages (from requests>=2->access>=1.1.8->pysal) (1.26.15)\n",
            "Requirement already satisfied: charset-normalizer~=2.0.0 in /usr/local/lib/python3.10/dist-packages (from requests>=2->access>=1.1.8->pysal) (2.0.12)\n",
            "Requirement already satisfied: idna<4,>=2.5 in /usr/local/lib/python3.10/dist-packages (from requests>=2->access>=1.1.8->pysal) (3.4)\n",
            "Requirement already satisfied: threadpoolctl>=2.0.0 in /usr/local/lib/python3.10/dist-packages (from scikit-learn->esda>=2.4.1->pysal) (3.1.0)\n",
            "Requirement already satisfied: soupsieve>1.2 in /usr/local/lib/python3.10/dist-packages (from beautifulsoup4->libpysal>=4.7.0->pysal) (2.4.1)\n",
            "Requirement already satisfied: MarkupSafe>=2.0 in /usr/local/lib/python3.10/dist-packages (from jinja2->libpysal>=4.7.0->pysal) (2.1.2)\n",
            "Requirement already satisfied: contourpy>=1.0.1 in /usr/local/lib/python3.10/dist-packages (from matplotlib->pointpats>=2.2.0->pysal) (1.0.7)\n",
            "Requirement already satisfied: cycler>=0.10 in /usr/local/lib/python3.10/dist-packages (from matplotlib->pointpats>=2.2.0->pysal) (0.11.0)\n",
            "Requirement already satisfied: fonttools>=4.22.0 in /usr/local/lib/python3.10/dist-packages (from matplotlib->pointpats>=2.2.0->pysal) (4.39.3)\n",
            "Requirement already satisfied: kiwisolver>=1.0.1 in /usr/local/lib/python3.10/dist-packages (from matplotlib->pointpats>=2.2.0->pysal) (1.4.4)\n",
            "Requirement already satisfied: pillow>=6.2.0 in /usr/local/lib/python3.10/dist-packages (from matplotlib->pointpats>=2.2.0->pysal) (8.4.0)\n",
            "Requirement already satisfied: pyparsing>=2.3.1 in /usr/local/lib/python3.10/dist-packages (from matplotlib->pointpats>=2.2.0->pysal) (3.0.9)\n",
            "Requirement already satisfied: affine in /usr/local/lib/python3.10/dist-packages (from rasterio->tobler>=0.8.2->pysal) (2.4.0)\n",
            "Requirement already satisfied: attrs in /usr/local/lib/python3.10/dist-packages (from rasterio->tobler>=0.8.2->pysal) (23.1.0)\n",
            "Requirement already satisfied: click>=4.0 in /usr/local/lib/python3.10/dist-packages (from rasterio->tobler>=0.8.2->pysal) (8.1.3)\n",
            "Requirement already satisfied: cligj>=0.5 in /usr/local/lib/python3.10/dist-packages (from rasterio->tobler>=0.8.2->pysal) (0.7.2)\n",
            "Requirement already satisfied: snuggs>=1.4.1 in /usr/local/lib/python3.10/dist-packages (from rasterio->tobler>=0.8.2->pysal) (1.4.7)\n",
            "Requirement already satisfied: click-plugins in /usr/local/lib/python3.10/dist-packages (from rasterio->tobler>=0.8.2->pysal) (1.1.1)\n",
            "Requirement already satisfied: simplejson in /usr/local/lib/python3.10/dist-packages (from rasterstats->tobler>=0.8.2->pysal) (3.19.1)\n",
            "Requirement already satisfied: patsy>=0.5.2 in /usr/local/lib/python3.10/dist-packages (from statsmodels->tobler>=0.8.2->pysal) (0.5.3)\n",
            "Requirement already satisfied: six in /usr/local/lib/python3.10/dist-packages (from fiona>=1.8.19->geopandas->access>=1.1.8->pysal) (1.16.0)\n",
            "Requirement already satisfied: mpmath>=0.19 in /usr/local/lib/python3.10/dist-packages (from sympy->quantecon>=0.4.7->giddy>=2.3.3->pysal) (1.3.0)\n",
            "Looking in indexes: https://pypi.org/simple, https://us-python.pkg.dev/colab-wheels/public/simple/\n",
            "Requirement already satisfied: geopandas in /usr/local/lib/python3.10/dist-packages (0.13.2)\n",
            "Requirement already satisfied: fiona>=1.8.19 in /usr/local/lib/python3.10/dist-packages (from geopandas) (1.9.4.post1)\n",
            "Requirement already satisfied: packaging in /usr/local/lib/python3.10/dist-packages (from geopandas) (23.1)\n",
            "Requirement already satisfied: pandas>=1.1.0 in /usr/local/lib/python3.10/dist-packages (from geopandas) (1.3.5)\n",
            "Requirement already satisfied: pyproj>=3.0.1 in /usr/local/lib/python3.10/dist-packages (from geopandas) (3.5.0)\n",
            "Requirement already satisfied: shapely>=1.7.1 in /usr/local/lib/python3.10/dist-packages (from geopandas) (2.0.1)\n",
            "Requirement already satisfied: attrs>=19.2.0 in /usr/local/lib/python3.10/dist-packages (from fiona>=1.8.19->geopandas) (23.1.0)\n",
            "Requirement already satisfied: certifi in /usr/local/lib/python3.10/dist-packages (from fiona>=1.8.19->geopandas) (2022.12.7)\n",
            "Requirement already satisfied: click~=8.0 in /usr/local/lib/python3.10/dist-packages (from fiona>=1.8.19->geopandas) (8.1.3)\n",
            "Requirement already satisfied: click-plugins>=1.0 in /usr/local/lib/python3.10/dist-packages (from fiona>=1.8.19->geopandas) (1.1.1)\n",
            "Requirement already satisfied: cligj>=0.5 in /usr/local/lib/python3.10/dist-packages (from fiona>=1.8.19->geopandas) (0.7.2)\n",
            "Requirement already satisfied: six in /usr/local/lib/python3.10/dist-packages (from fiona>=1.8.19->geopandas) (1.16.0)\n",
            "Requirement already satisfied: python-dateutil>=2.7.3 in /usr/local/lib/python3.10/dist-packages (from pandas>=1.1.0->geopandas) (2.8.2)\n",
            "Requirement already satisfied: pytz>=2017.3 in /usr/local/lib/python3.10/dist-packages (from pandas>=1.1.0->geopandas) (2022.7.1)\n",
            "Requirement already satisfied: numpy>=1.21.0 in /usr/local/lib/python3.10/dist-packages (from pandas>=1.1.0->geopandas) (1.22.4)\n",
            "Looking in indexes: https://pypi.org/simple, https://us-python.pkg.dev/colab-wheels/public/simple/\n",
            "Looking in links: https://data.pyg.org/whl/torch-2.0.0+cpu.html\n",
            "Requirement already satisfied: torch_geometric in /usr/local/lib/python3.10/dist-packages (2.3.1)\n",
            "Requirement already satisfied: pyg_lib in /usr/local/lib/python3.10/dist-packages (0.2.0+pt20cpu)\n",
            "Requirement already satisfied: torch_scatter in /usr/local/lib/python3.10/dist-packages (2.1.1+pt20cpu)\n",
            "Requirement already satisfied: torch_sparse in /usr/local/lib/python3.10/dist-packages (0.6.17+pt20cpu)\n",
            "Requirement already satisfied: torch_cluster in /usr/local/lib/python3.10/dist-packages (1.6.1+pt20cpu)\n",
            "Requirement already satisfied: torch_spline_conv in /usr/local/lib/python3.10/dist-packages (1.2.2+pt20cpu)\n",
            "Requirement already satisfied: tqdm in /usr/local/lib/python3.10/dist-packages (from torch_geometric) (4.65.0)\n",
            "Requirement already satisfied: numpy in /usr/local/lib/python3.10/dist-packages (from torch_geometric) (1.22.4)\n",
            "Requirement already satisfied: scipy in /usr/local/lib/python3.10/dist-packages (from torch_geometric) (1.10.1)\n",
            "Requirement already satisfied: jinja2 in /usr/local/lib/python3.10/dist-packages (from torch_geometric) (3.1.2)\n",
            "Requirement already satisfied: requests in /usr/local/lib/python3.10/dist-packages (from torch_geometric) (2.27.1)\n",
            "Requirement already satisfied: pyparsing in /usr/local/lib/python3.10/dist-packages (from torch_geometric) (3.0.9)\n",
            "Requirement already satisfied: scikit-learn in /usr/local/lib/python3.10/dist-packages (from torch_geometric) (1.2.2)\n",
            "Requirement already satisfied: psutil>=5.8.0 in /usr/local/lib/python3.10/dist-packages (from torch_geometric) (5.9.5)\n",
            "Requirement already satisfied: MarkupSafe>=2.0 in /usr/local/lib/python3.10/dist-packages (from jinja2->torch_geometric) (2.1.2)\n",
            "Requirement already satisfied: urllib3<1.27,>=1.21.1 in /usr/local/lib/python3.10/dist-packages (from requests->torch_geometric) (1.26.15)\n",
            "Requirement already satisfied: certifi>=2017.4.17 in /usr/local/lib/python3.10/dist-packages (from requests->torch_geometric) (2022.12.7)\n",
            "Requirement already satisfied: charset-normalizer~=2.0.0 in /usr/local/lib/python3.10/dist-packages (from requests->torch_geometric) (2.0.12)\n",
            "Requirement already satisfied: idna<4,>=2.5 in /usr/local/lib/python3.10/dist-packages (from requests->torch_geometric) (3.4)\n",
            "Requirement already satisfied: joblib>=1.1.1 in /usr/local/lib/python3.10/dist-packages (from scikit-learn->torch_geometric) (1.2.0)\n",
            "Requirement already satisfied: threadpoolctl>=2.0.0 in /usr/local/lib/python3.10/dist-packages (from scikit-learn->torch_geometric) (3.1.0)\n",
            "Looking in indexes: https://pypi.org/simple, https://us-python.pkg.dev/colab-wheels/public/simple/\n",
            "Requirement already satisfied: torch-geometric-temporal in /usr/local/lib/python3.10/dist-packages (0.54.0)\n",
            "Requirement already satisfied: decorator==4.4.2 in /usr/local/lib/python3.10/dist-packages (from torch-geometric-temporal) (4.4.2)\n",
            "Requirement already satisfied: torch in /usr/local/lib/python3.10/dist-packages (from torch-geometric-temporal) (2.0.1+cu118)\n",
            "Requirement already satisfied: cython in /usr/local/lib/python3.10/dist-packages (from torch-geometric-temporal) (0.29.34)\n",
            "Requirement already satisfied: pandas<=1.3.5 in /usr/local/lib/python3.10/dist-packages (from torch-geometric-temporal) (1.3.5)\n",
            "Requirement already satisfied: torch-sparse in /usr/local/lib/python3.10/dist-packages (from torch-geometric-temporal) (0.6.17+pt20cpu)\n",
            "Requirement already satisfied: torch-scatter in /usr/local/lib/python3.10/dist-packages (from torch-geometric-temporal) (2.1.1+pt20cpu)\n",
            "Requirement already satisfied: torch-geometric in /usr/local/lib/python3.10/dist-packages (from torch-geometric-temporal) (2.3.1)\n",
            "Requirement already satisfied: numpy in /usr/local/lib/python3.10/dist-packages (from torch-geometric-temporal) (1.22.4)\n",
            "Requirement already satisfied: six in /usr/local/lib/python3.10/dist-packages (from torch-geometric-temporal) (1.16.0)\n",
            "Requirement already satisfied: networkx in /usr/local/lib/python3.10/dist-packages (from torch-geometric-temporal) (3.1)\n",
            "Requirement already satisfied: python-dateutil>=2.7.3 in /usr/local/lib/python3.10/dist-packages (from pandas<=1.3.5->torch-geometric-temporal) (2.8.2)\n",
            "Requirement already satisfied: pytz>=2017.3 in /usr/local/lib/python3.10/dist-packages (from pandas<=1.3.5->torch-geometric-temporal) (2022.7.1)\n",
            "Requirement already satisfied: filelock in /usr/local/lib/python3.10/dist-packages (from torch->torch-geometric-temporal) (3.12.0)\n",
            "Requirement already satisfied: typing-extensions in /usr/local/lib/python3.10/dist-packages (from torch->torch-geometric-temporal) (4.5.0)\n",
            "Requirement already satisfied: sympy in /usr/local/lib/python3.10/dist-packages (from torch->torch-geometric-temporal) (1.11.1)\n",
            "Requirement already satisfied: jinja2 in /usr/local/lib/python3.10/dist-packages (from torch->torch-geometric-temporal) (3.1.2)\n",
            "Requirement already satisfied: triton==2.0.0 in /usr/local/lib/python3.10/dist-packages (from torch->torch-geometric-temporal) (2.0.0)\n",
            "Requirement already satisfied: cmake in /usr/local/lib/python3.10/dist-packages (from triton==2.0.0->torch->torch-geometric-temporal) (3.25.2)\n",
            "Requirement already satisfied: lit in /usr/local/lib/python3.10/dist-packages (from triton==2.0.0->torch->torch-geometric-temporal) (16.0.5)\n",
            "Requirement already satisfied: tqdm in /usr/local/lib/python3.10/dist-packages (from torch-geometric->torch-geometric-temporal) (4.65.0)\n",
            "Requirement already satisfied: scipy in /usr/local/lib/python3.10/dist-packages (from torch-geometric->torch-geometric-temporal) (1.10.1)\n",
            "Requirement already satisfied: requests in /usr/local/lib/python3.10/dist-packages (from torch-geometric->torch-geometric-temporal) (2.27.1)\n",
            "Requirement already satisfied: pyparsing in /usr/local/lib/python3.10/dist-packages (from torch-geometric->torch-geometric-temporal) (3.0.9)\n",
            "Requirement already satisfied: scikit-learn in /usr/local/lib/python3.10/dist-packages (from torch-geometric->torch-geometric-temporal) (1.2.2)\n",
            "Requirement already satisfied: psutil>=5.8.0 in /usr/local/lib/python3.10/dist-packages (from torch-geometric->torch-geometric-temporal) (5.9.5)\n",
            "Requirement already satisfied: MarkupSafe>=2.0 in /usr/local/lib/python3.10/dist-packages (from jinja2->torch->torch-geometric-temporal) (2.1.2)\n",
            "Requirement already satisfied: urllib3<1.27,>=1.21.1 in /usr/local/lib/python3.10/dist-packages (from requests->torch-geometric->torch-geometric-temporal) (1.26.15)\n",
            "Requirement already satisfied: certifi>=2017.4.17 in /usr/local/lib/python3.10/dist-packages (from requests->torch-geometric->torch-geometric-temporal) (2022.12.7)\n",
            "Requirement already satisfied: charset-normalizer~=2.0.0 in /usr/local/lib/python3.10/dist-packages (from requests->torch-geometric->torch-geometric-temporal) (2.0.12)\n",
            "Requirement already satisfied: idna<4,>=2.5 in /usr/local/lib/python3.10/dist-packages (from requests->torch-geometric->torch-geometric-temporal) (3.4)\n",
            "Requirement already satisfied: joblib>=1.1.1 in /usr/local/lib/python3.10/dist-packages (from scikit-learn->torch-geometric->torch-geometric-temporal) (1.2.0)\n",
            "Requirement already satisfied: threadpoolctl>=2.0.0 in /usr/local/lib/python3.10/dist-packages (from scikit-learn->torch-geometric->torch-geometric-temporal) (3.1.0)\n",
            "Requirement already satisfied: mpmath>=0.19 in /usr/local/lib/python3.10/dist-packages (from sympy->torch->torch-geometric-temporal) (1.3.0)\n",
            "Looking in indexes: https://pypi.org/simple, https://us-python.pkg.dev/colab-wheels/public/simple/\n",
            "Collecting git+https://github.com/FelipeSchreiber/COE770_Machine_Learning_on_Graphs.git\n",
            "  Cloning https://github.com/FelipeSchreiber/COE770_Machine_Learning_on_Graphs.git to /tmp/pip-req-build-uc0pmi8f\n",
            "  Running command git clone --filter=blob:none --quiet https://github.com/FelipeSchreiber/COE770_Machine_Learning_on_Graphs.git /tmp/pip-req-build-uc0pmi8f\n",
            "  Resolved https://github.com/FelipeSchreiber/COE770_Machine_Learning_on_Graphs.git to commit 76ede78745fb93811bb87520d9fcd457a0a02934\n",
            "  Preparing metadata (setup.py) ... \u001b[?25l\u001b[?25hdone\n",
            "Building wheels for collected packages: covid-dataset\n",
            "  Building wheel for covid-dataset (setup.py) ... \u001b[?25l\u001b[?25hdone\n",
            "  Created wheel for covid-dataset: filename=covid_dataset-1.0-py3-none-any.whl size=6921 sha256=f74fb9a6eab28fcd4478177912feb2a5c27fd3da829f36002888e14d76f3ccfe\n",
            "  Stored in directory: /tmp/pip-ephem-wheel-cache-n0hyjdkw/wheels/1a/c1/86/a76c4e6aae806c720580596e97b33dc2119a057861d9b8df59\n",
            "Successfully built covid-dataset\n"
          ]
        }
      ],
      "source": [
        "!pip install -U pysal\n",
        "!pip install geopandas\n",
        "!pip install torch_geometric pyg_lib torch_scatter torch_sparse torch_cluster torch_spline_conv -f https://data.pyg.org/whl/torch-2.0.0+cpu.html\n",
        "!pip install torch-geometric-temporal\n",
        "!pip install --upgrade --force-reinstall git+https://github.com/FelipeSchreiber/COE770_Machine_Learning_on_Graphs.git"
      ]
    },
    {
      "cell_type": "code",
      "execution_count": null,
      "metadata": {
        "id": "AtmWhcjVkFsh"
      },
      "outputs": [],
      "source": [
        "print(\"Ok\")"
      ]
    },
    {
      "cell_type": "code",
      "execution_count": null,
      "metadata": {
        "id": "qut3tlPzajg0"
      },
      "outputs": [],
      "source": [
        "from google.colab import runtime\n",
        "import torch\n",
        "import gc\n",
        "from dataset.covidBR_dataset import *\n",
        "from model.covid_model import *\n",
        "from torch_geometric_temporal.signal import temporal_signal_split\n",
        "from torch_geometric.loader import GraphSAINTRandomWalkSampler, NeighborLoader\n",
        "from tqdm import tqdm"
      ]
    },
    {
      "cell_type": "code",
      "execution_count": null,
      "metadata": {
        "id": "KJUPrfQ7BiWi"
      },
      "outputs": [],
      "source": [
        "def free_cache():\n",
        "  gc.collect()\n",
        "  torch.cuda.empty_cache()"
      ]
    },
    {
      "cell_type": "code",
      "execution_count": null,
      "metadata": {
        "id": "AVdzjCygy139"
      },
      "outputs": [],
      "source": [
        "loader = CovidDatasetLoader(method=\"other\")\n",
        "dataset = loader.get_dataset(lags=4)\n",
        "train_dataset, test_dataset = temporal_signal_split(dataset, train_ratio=0.8)"
      ]
    },
    {
      "cell_type": "code",
      "execution_count": null,
      "metadata": {
        "id": "u1osxmlyijWO"
      },
      "outputs": [],
      "source": [
        "dataset[0].x.shape[1]"
      ]
    },
    {
      "cell_type": "code",
      "execution_count": null,
      "metadata": {
        "id": "E0Kde9brwBcn"
      },
      "outputs": [],
      "source": [
        "filter_size = 3\n",
        "train_model = True\n",
        "num_feats = dataset[0].x.shape[1]\n",
        "gamma=1"
      ]
    },
    {
      "cell_type": "code",
      "execution_count": null,
      "metadata": {
        "id": "BjBIgVqfzR_1"
      },
      "outputs": [],
      "source": [
        "device = \"cpu\"\n",
        "dtype = torch.FloatTensor\n",
        "if torch.cuda.is_available():\n",
        "    dtype = torch.cuda.FloatTensor\n",
        "    device = \"cuda\"\n",
        "if device == \"cpu\" and train_model:\n",
        "    import torch_directml\n",
        "    dml = torch_directml.device()\n",
        "device"
      ]
    },
    {
      "cell_type": "code",
      "execution_count": null,
      "metadata": {
        "id": "Ff787MRBy13_"
      },
      "outputs": [],
      "source": [
        "if train_model:\n",
        "    model = RecurrentGCN(num_features = num_feats, num_filters = filter_size).to(device)\n",
        "\n",
        "    optimizer = torch.optim.Adam(model.parameters(), lr=0.01)\n",
        "\n",
        "    model.train()\n",
        "\n",
        "    for epoch in tqdm(range(10)):\n",
        "        for time, snapshot in enumerate(train_dataset):\n",
        "            snapshot.to(device)\n",
        "            y_hat,A_h,A_z,A_r  = model(snapshot.x, snapshot.edge_index, snapshot.edge_attr)\n",
        "            cost = torch.mean((y_hat-snapshot.y)**2)\\\n",
        "            + gamma*(torch.norm(A_h,p=1) + torch.norm(A_z,p=1) + torch.norm(A_r,p=1))\n",
        "            cost.backward()\n",
        "            optimizer.step()\n",
        "            optimizer.zero_grad()\n",
        "        if epoch % 10 == 0:\n",
        "            torch.save(model.state_dict(), \"./model_weights_ADCRNN\")\n",
        "            # torch.save(model, \"./the_whole_model\")\n",
        "    torch.save(model, \"./the_whole_model_ADCRNN\")\n",
        "    free_cache()\n",
        "else:\n",
        "    model = get_model(False)\n",
        "    model.to(device)"
      ]
    },
    {
      "cell_type": "code",
      "execution_count": null,
      "metadata": {
        "id": "1CA0LNZ19Fwr"
      },
      "outputs": [],
      "source": [
        "next(model.parameters()).is_cuda"
      ]
    },
    {
      "cell_type": "code",
      "execution_count": null,
      "metadata": {
        "id": "Ppz06OBn_2M-"
      },
      "outputs": [],
      "source": [
        "def check_mem():\n",
        "  #Additional Info when using cuda\n",
        "  if device == 'cuda':\n",
        "      print(torch.cuda.get_device_name(0))\n",
        "      print('Memory Usage:')\n",
        "      print('Allocated:', round(torch.cuda.memory_allocated(0)/1024**3,1), 'GB')\n",
        "      print('Cached:   ', round(torch.cuda.memory_cached(0)/1024**3,1), 'GB')"
      ]
    },
    {
      "cell_type": "code",
      "execution_count": null,
      "metadata": {
        "id": "Fvf3oWdTI3LR"
      },
      "outputs": [],
      "source": [
        "check_mem()"
      ]
    },
    {
      "cell_type": "code",
      "execution_count": null,
      "metadata": {
        "id": "N-8l9fPGMV_L"
      },
      "outputs": [],
      "source": [
        "# free_cache()"
      ]
    },
    {
      "cell_type": "code",
      "execution_count": null,
      "metadata": {
        "id": "VoZr7Jq0y13_"
      },
      "outputs": [],
      "source": [
        "model.eval()\n",
        "cost = 0\n",
        "# test_dataset.to(device)\n",
        "for time, snapshot in enumerate(test_dataset):\n",
        "    snapshot.to(device)\n",
        "    y_hat,_,_,_ = model(snapshot.x, snapshot.edge_index, snapshot.edge_attr)\n",
        "    cost = cost + torch.mean((y_hat-snapshot.y)**2).item()\n",
        "    cost = cost / (time+1)\n",
        "    del snapshot\n",
        "    free_cache()\n",
        "    # check_mem()"
      ]
    },
    {
      "cell_type": "code",
      "execution_count": null,
      "metadata": {
        "id": "wLqwXXlJPrrA"
      },
      "outputs": [],
      "source": [
        "print(\"MSE: {:.4f}\".format(cost))"
      ]
    },
    {
      "cell_type": "code",
      "execution_count": null,
      "metadata": {
        "id": "5u0EY8u4PYMo"
      },
      "outputs": [],
      "source": [
        "time"
      ]
    },
    {
      "cell_type": "code",
      "execution_count": null,
      "metadata": {
        "id": "DgMMCkk-ulpk"
      },
      "outputs": [],
      "source": [
        "runtime.unassign()"
      ]
    }
  ],
  "metadata": {
    "accelerator": "GPU",
    "colab": {
      "gpuType": "T4",
      "provenance": [],
      "toc_visible": true
    },
    "kernelspec": {
      "display_name": "Python 3",
      "name": "python3"
    },
    "language_info": {
      "codemirror_mode": {
        "name": "ipython",
        "version": 3
      },
      "file_extension": ".py",
      "mimetype": "text/x-python",
      "name": "python",
      "nbconvert_exporter": "python",
      "pygments_lexer": "ipython3",
      "version": "3.8.16"
    }
  },
  "nbformat": 4,
  "nbformat_minor": 0
}